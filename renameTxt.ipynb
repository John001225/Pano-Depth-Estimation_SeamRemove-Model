{
 "cells": [
  {
   "cell_type": "code",
   "execution_count": 2,
   "metadata": {},
   "outputs": [
    {
     "name": "stdout",
     "output_type": "stream",
     "text": [
      "已更新 list_val.txt！\n"
     ]
    }
   ],
   "source": [
    "import os\n",
    "\n",
    "# 設定資料夾路徑\n",
    "color_folder = \"./datas/val/val_color\"\n",
    "depth_folder = \"./datas/val/val_depth\"\n",
    "txt_file = \"list_val.txt\"\n",
    "\n",
    "# 取得新的檔案名稱，確保兩個資料夾的檔案數量相同\n",
    "color_files = sorted(f for f in os.listdir(color_folder) if f.endswith(\".jpg\"))\n",
    "depth_files = sorted(f for f in os.listdir(depth_folder) if f.endswith(\".jpg\") or f.endswith(\".png\"))\n",
    "\n",
    "if len(color_files) != len(depth_files):\n",
    "    print(\"錯誤：兩個資料夾的檔案數量不匹配\")\n",
    "else:\n",
    "    # 重新寫入 .txt\n",
    "    with open(txt_file, \"w\") as f:\n",
    "        for color, depth in zip(color_files, depth_files):\n",
    "            f.write(f\"rgb/{color} gt_grayscale/{depth}\\n\")\n",
    "\n",
    "    print(f\"已更新 {txt_file}！\")\n"
   ]
  },
  {
   "cell_type": "code",
   "execution_count": 3,
   "metadata": {},
   "outputs": [
    {
     "name": "stdout",
     "output_type": "stream",
     "text": [
      "已更新 list_train.txt！\n",
      "已更新 list_val.txt！\n"
     ]
    }
   ],
   "source": [
    "import os\n",
    "\n",
    "types = ['train', 'val']\n",
    "for t in types:\n",
    "    # 設定資料夾路徑\n",
    "    color_folder = f\"./datas/{t}/{t}_color\"\n",
    "    depth_folder = f\"./datas/{t}/{t}_depth\"\n",
    "    txt_file = f\"list_{t}.txt\"\n",
    "\n",
    "    # 取得新的檔案名稱，確保兩個資料夾的檔案數量相同\n",
    "    color_files = sorted(f for f in os.listdir(color_folder) if f.endswith(\".jpg\"))\n",
    "    depth_files = sorted(f for f in os.listdir(depth_folder) if f.endswith(\".jpg\") or f.endswith(\".png\"))\n",
    "\n",
    "    if len(color_files) != len(depth_files):\n",
    "        print(\"錯誤：兩個資料夾的檔案數量不匹配\")\n",
    "    else:\n",
    "        # 重新寫入 .txt\n",
    "        with open(txt_file, \"w\") as f:\n",
    "            for color, depth in zip(color_files, depth_files):\n",
    "                f.write(f\"{t}/{t}_color/{color} {t}/{t}_depth/{depth}\\n\")\n",
    "\n",
    "        print(f\"已更新 {txt_file}！\")\n"
   ]
  }
 ],
 "metadata": {
  "kernelspec": {
   "display_name": "panoDepth",
   "language": "python",
   "name": "python3"
  },
  "language_info": {
   "codemirror_mode": {
    "name": "ipython",
    "version": 3
   },
   "file_extension": ".py",
   "mimetype": "text/x-python",
   "name": "python",
   "nbconvert_exporter": "python",
   "pygments_lexer": "ipython3",
   "version": "3.9.20"
  }
 },
 "nbformat": 4,
 "nbformat_minor": 2
}
