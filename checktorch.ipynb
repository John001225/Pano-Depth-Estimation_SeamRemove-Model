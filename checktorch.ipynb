{
 "cells": [
  {
   "cell_type": "code",
   "execution_count": 1,
   "metadata": {},
   "outputs": [
    {
     "name": "stdout",
     "output_type": "stream",
     "text": [
      "Checking PyTorch installation...\n",
      "PyTorch version: 2.4.0+cu118\n",
      "CUDA is available! GPU is enabled for PyTorch.\n",
      "GPU Name: NVIDIA GeForce RTX 4090\n",
      "CUDA Version: 11.8\n"
     ]
    }
   ],
   "source": [
    "import torch\n",
    "\n",
    "def check_pytorch():\n",
    "    # 檢查 PyTorch 是否安裝\n",
    "    print(\"Checking PyTorch installation...\")\n",
    "    if torch.__version__:\n",
    "        print(f\"PyTorch version: {torch.__version__}\")\n",
    "    else:\n",
    "        print(\"PyTorch is not installed.\")\n",
    "        return\n",
    "\n",
    "    # 檢查是否有可用的 GPU\n",
    "    if torch.cuda.is_available():\n",
    "        print(\"CUDA is available! GPU is enabled for PyTorch.\")\n",
    "        # 顯示 GPU 的名稱和 CUDA 版本\n",
    "        print(f\"GPU Name: {torch.cuda.get_device_name(0)}\")\n",
    "        print(f\"CUDA Version: {torch.version.cuda}\")\n",
    "    else:\n",
    "        print(\"CUDA is not available. Running on CPU.\")\n",
    "\n",
    "# 呼叫檢查函式\n",
    "check_pytorch()\n"
   ]
  },
  {
   "cell_type": "code",
   "execution_count": 5,
   "metadata": {},
   "outputs": [
    {
     "name": "stdout",
     "output_type": "stream",
     "text": [
      "timm is installed.\n",
      "PIL is installed.\n",
      "matplotlib is installed.\n",
      "scipy is installed.\n",
      "h5py is installed.\n",
      "cv2 is installed.\n"
     ]
    }
   ],
   "source": [
    "import importlib\n",
    "\n",
    "# 列出要檢查的套件\n",
    "packages = [\"timm\", \"PIL\", \"matplotlib\", \"scipy\", \"h5py\", \"cv2\"]\n",
    "\n",
    "for package in packages:\n",
    "    try:\n",
    "        # 嘗試導入套件\n",
    "        importlib.import_module(package)\n",
    "        print(f\"{package} is installed.\")\n",
    "    except ImportError:\n",
    "        print(f\"{package} is NOT installed.\")\n"
   ]
  }
 ],
 "metadata": {
  "kernelspec": {
   "display_name": "panoDepth",
   "language": "python",
   "name": "python3"
  },
  "language_info": {
   "codemirror_mode": {
    "name": "ipython",
    "version": 3
   },
   "file_extension": ".py",
   "mimetype": "text/x-python",
   "name": "python",
   "nbconvert_exporter": "python",
   "pygments_lexer": "ipython3",
   "version": "3.9.20"
  }
 },
 "nbformat": 4,
 "nbformat_minor": 2
}
